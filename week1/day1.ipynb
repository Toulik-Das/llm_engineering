{
 "cells": [
  {
   "cell_type": "markdown",
   "id": "d15d8294-3328-4e07-ad16-8a03e9bbfdb9",
   "metadata": {},
   "source": [
    "# Instant Gratification!\n",
    "\n",
    "Let's build a useful LLM solution - in a matter of minutes.\n",
    "\n",
    "Our goal is to code a new kind of Web Browser. Give it a URL, and it will respond with a summary. The Reader's Digest of the internet!!\n",
    "\n",
    "Before starting, be sure to have followed the instructions in the \"README\" file, including creating your API key with OpenAI and adding it to the `.env` file.\n",
    "\n",
    "## If you're new to Jupyer Lab\n",
    "\n",
    "Welcome to the wonderful world of Data Science experimentation! Once you've used Jupyter Lab, you'll wonder how you ever lived without it. Simply click in each \"cell\" with code in it, like the cell immediately below this text, and hit Shift+Return to execute that cell. As you wish, you can add a cell with the + button in the toolbar, and print values of variables, or try out variations.\n",
    "\n",
    "If you need to start again, go to Kernel menu >> Restart kernel."
   ]
  },
  {
   "cell_type": "code",
   "execution_count": 1,
   "id": "4e2a9393-7767-488e-a8bf-27c12dca35bd",
   "metadata": {},
   "outputs": [],
   "source": [
    "# imports\n",
    "\n",
    "import os\n",
    "import requests\n",
    "from dotenv import load_dotenv\n",
    "from bs4 import BeautifulSoup\n",
    "from IPython.display import Markdown, display\n",
    "from openai import OpenAI"
   ]
  },
  {
   "cell_type": "markdown",
   "id": "6900b2a8-6384-4316-8aaa-5e519fca4254",
   "metadata": {},
   "source": [
    "# Connecting to OpenAI\n",
    "\n",
    "The next cell is where we load in the environment variables in your `.env` file and connect to OpenAI.\n",
    "\n",
    "## Troubleshooting if you have problems:\n",
    "\n",
    "1. OpenAI takes a few minutes to register after you set up an account. If you receive an error about being over quota, try waiting a few minutes and try again.\n",
    "2. Also, double check you have the right kind of API token with the right permissions. You should find it on [this webpage](https://platform.openai.com/api-keys) and it should show with Permissions of \"All\". If not, try creating another key by:\n",
    "- Pressing \"Create new secret key\" on the top right\n",
    "- Select **Owned by:** you, **Project:** Default project, **Permissions:** All\n",
    "- Click Create secret key, and use that new key in the code and the `.env` file (it might take a few minutes to activate)\n",
    "- Do a Kernel >> Restart kernel, and execute the cells in this Jupyter lab starting at the top\n",
    "4. As a fallback, replace the line `openai = OpenAI()` with `openai = OpenAI(api_key=\"your-key-here\")` - while it's not recommended to hard code tokens in Jupyter lab, because then you can't share your lab with others, it's a workaround for now\n",
    "5. Contact me! Message me or email ed@edwarddonner.com and we will get this to work.\n",
    "\n",
    "Any concerns about API costs? See my notes in the README - costs should be minimal, and you can control it at every point."
   ]
  },
  {
   "cell_type": "code",
   "execution_count": 11,
   "id": "7b87cadb-d513-4303-baee-a37b6f938e4d",
   "metadata": {},
   "outputs": [],
   "source": [
    "# Load environment variables in a file called .env\n",
    "\n",
    "load_dotenv()\n",
    "os.environ['OPENAI_API_KEY'] = os.getenv('OPENAI_API_KEY','your-key-if-not-using-env')\n",
    "openai = OpenAI()"
   ]
  },
  {
   "cell_type": "code",
   "execution_count": 37,
   "id": "c5e793b2-6775-426a-a139-4848291d0463",
   "metadata": {},
   "outputs": [],
   "source": [
    "# A class to represent a Webpage\n",
    "\n",
    "class Website:\n",
    "    url: str\n",
    "    title: str\n",
    "    text: str\n",
    "\n",
    "    def __init__(self, url):\n",
    "        self.url = url\n",
    "        response = requests.get(url)\n",
    "        soup = BeautifulSoup(response.content, 'html.parser')\n",
    "        self.title = soup.title.string if soup.title else \"No title found\"\n",
    "        for irrelevant in soup.body([\"script\", \"style\", \"img\", \"input\"]):\n",
    "            irrelevant.decompose()\n",
    "        self.text = soup.body.get_text(separator=\"\\n\", strip=True)"
   ]
  },
  {
   "cell_type": "code",
   "execution_count": 38,
   "id": "2ef960cf-6dc2-4cda-afb3-b38be12f4c97",
   "metadata": {},
   "outputs": [
    {
     "name": "stdout",
     "output_type": "stream",
     "text": [
      "Home - Edward Donner\n",
      "Home\n",
      "Outsmart\n",
      "An arena that pits LLMs against each other in a battle of diplomacy and deviousness\n",
      "About\n",
      "Posts\n",
      "Well, hi there.\n",
      "I’m Ed. I like writing code and experimenting with LLMs, and hopefully you’re here because you do too. I also enjoy DJing (but I’m badly out of practice), amateur electronic music production (\n",
      "very\n",
      "amateur) and losing myself in\n",
      "Hacker News\n",
      ", nodding my head sagely to things I only half understand.\n",
      "I’m the co-founder and CTO of\n",
      "Nebula.io\n",
      ". We’re applying AI to a field where it can make a massive, positive impact: helping people discover their potential and pursue their reason for being. Recruiters use our product today to source, understand, engage and manage talent. I’m previously the founder and CEO of AI startup untapt,\n",
      "acquired in 2021\n",
      ".\n",
      "We work with groundbreaking, proprietary LLMs verticalized for talent, we’ve\n",
      "patented\n",
      "our matching model, and our award-winning platform has happy customers and tons of press coverage.\n",
      "Connect\n",
      "with me for more!\n",
      "August 6, 2024\n",
      "Outsmart LLM Arena – a battle of diplomacy and deviousness\n",
      "June 26, 2024\n",
      "Choosing the Right LLM: Toolkit and Resources\n",
      "February 7, 2024\n",
      "Fine-tuning an LLM on your texts: a simulation of you\n",
      "January 31, 2024\n",
      "Fine-tuning an LLM on your texts: part 4 – QLoRA\n",
      "Navigation\n",
      "Home\n",
      "Outsmart\n",
      "An arena that pits LLMs against each other in a battle of diplomacy and deviousness\n",
      "About\n",
      "Posts\n",
      "Get in touch\n",
      "ed [at] edwarddonner [dot] com\n",
      "www.edwarddonner.com\n",
      "Follow me\n",
      "LinkedIn\n",
      "Twitter\n",
      "Facebook\n",
      "Subscribe to newsletter\n",
      "Type your email…\n",
      "Subscribe\n"
     ]
    }
   ],
   "source": [
    "# Let's try one out\n",
    "\n",
    "ed = Website(\"https://edwarddonner.com\")\n",
    "print(ed.title)\n",
    "print(ed.text)"
   ]
  },
  {
   "cell_type": "markdown",
   "id": "6a478a0c-2c53-48ff-869c-4d08199931e1",
   "metadata": {},
   "source": [
    "## Types of prompts\n",
    "\n",
    "You may know this already - but if not, you will get very familiar with it!\n",
    "\n",
    "Models like GPT4o have been trained to receive instructions in a particular way.\n",
    "\n",
    "They expect to receive:\n",
    "\n",
    "**A system prompt** that tells them what task they are performing and what tone they should use\n",
    "\n",
    "**A user prompt** -- the conversation starter that they should reply to"
   ]
  },
  {
   "cell_type": "code",
   "execution_count": 39,
   "id": "abdb8417-c5dc-44bc-9bee-2e059d162699",
   "metadata": {},
   "outputs": [],
   "source": [
    "system_prompt = \"You are an assistant that analyzes the contents of a website \\\n",
    "and provides a short summary, ignoring text that might be navigation related. \\\n",
    "Respond in markdown.\""
   ]
  },
  {
   "cell_type": "code",
   "execution_count": 40,
   "id": "f0275b1b-7cfe-4f9d-abfa-7650d378da0c",
   "metadata": {},
   "outputs": [],
   "source": [
    "def user_prompt_for(website):\n",
    "    user_prompt = f\"You are looking at a website titled {website.title}\"\n",
    "    user_prompt += \"The contents of this website is as follows; \\\n",
    "please provide a short summary of this website in markdown. \\\n",
    "If it includes news or announcements, then summarize these too.\\n\\n\"\n",
    "    user_prompt += website.text\n",
    "    return user_prompt"
   ]
  },
  {
   "cell_type": "markdown",
   "id": "ea211b5f-28e1-4a86-8e52-c0b7677cadcc",
   "metadata": {},
   "source": [
    "## Messages\n",
    "\n",
    "The API from OpenAI expects to receive messages in a particular structure.\n",
    "Many of the other APIs share this structure:\n",
    "\n",
    "```\n",
    "[\n",
    "    {\"role\": \"system\", \"content\": \"system message goes here\"},\n",
    "    {\"role\": \"user\", \"content\": \"user message goes here\"}\n",
    "]"
   ]
  },
  {
   "cell_type": "code",
   "execution_count": 41,
   "id": "0134dfa4-8299-48b5-b444-f2a8c3403c88",
   "metadata": {},
   "outputs": [],
   "source": [
    "def messages_for(website):\n",
    "    return [\n",
    "        {\"role\": \"system\", \"content\": system_prompt},\n",
    "        {\"role\": \"user\", \"content\": user_prompt_for(website)}\n",
    "    ]"
   ]
  },
  {
   "cell_type": "markdown",
   "id": "16f49d46-bf55-4c3e-928f-68fc0bf715b0",
   "metadata": {},
   "source": [
    "## Time to bring it together - the API for OpenAI is very simple!"
   ]
  },
  {
   "cell_type": "code",
   "execution_count": 42,
   "id": "905b9919-aba7-45b5-ae65-81b3d1d78e34",
   "metadata": {},
   "outputs": [],
   "source": [
    "def summarize(url):\n",
    "    website = Website(url)\n",
    "    response = openai.chat.completions.create(\n",
    "        model = \"gpt-4o-mini\",\n",
    "        messages = messages_for(website)\n",
    "    )\n",
    "    return response.choices[0].message.content"
   ]
  },
  {
   "cell_type": "code",
   "execution_count": 43,
   "id": "05e38d41-dfa4-4b20-9c96-c46ea75d9fb5",
   "metadata": {},
   "outputs": [
    {
     "data": {
      "text/plain": [
       "'# Summary of Edward Donner\\'s Website\\n\\nThe website is a personal platform for Ed, who shares his interests in coding, experimenting with large language models (LLMs), DJing, and electronic music production. He is the co-founder and CTO of [Nebula.io](http://nebula.io), a company focused on using AI for talent management. Ed has previous experience as the founder and CEO of the AI startup untapt, which was acquired in 2021.\\n\\n## Key Features:\\n- **Outsmart LLM Arena**: A feature that showcases LLMs competing in scenarios focusing on diplomacy and strategy.\\n- **Resources**: Ed offers posts related to selecting and fine-tuning LLMs for various applications.\\n\\n## Recent Posts:\\n- **August 6, 2024**: \"Outsmart LLM Arena – a battle of diplomacy and deviousness\"\\n- **June 26, 2024**: \"Choosing the Right LLM: Toolkit and Resources\"\\n- **February 7, 2024**: \"Fine-tuning an LLM on your texts: a simulation of you\"\\n- **January 31, 2024**: \"Fine-tuning an LLM on your texts: part 4 – QLoRA\"\\n\\nThe site serves as a hub for Ed\\'s projects and insights related to AI and LLMs, inviting discussions and connections in this innovative field.'"
      ]
     },
     "execution_count": 43,
     "metadata": {},
     "output_type": "execute_result"
    }
   ],
   "source": [
    "summarize(\"https://edwarddonner.com\")"
   ]
  },
  {
   "cell_type": "code",
   "execution_count": 44,
   "id": "3d926d59-450e-4609-92ba-2d6f244f1342",
   "metadata": {},
   "outputs": [],
   "source": [
    "def display_summary(url):\n",
    "    summary = summarize(url)\n",
    "    display(Markdown(summary))"
   ]
  },
  {
   "cell_type": "code",
   "execution_count": 45,
   "id": "3018853a-445f-41ff-9560-d925d1774b2f",
   "metadata": {},
   "outputs": [
    {
     "data": {
      "text/markdown": [
       "# Summary of Edward Donner's Website\n",
       "\n",
       "The website belongs to Ed Donner, a co-founder and CTO at Nebula.io, which focuses on using AI to help individuals discover their potential and optimize talent recruitment processes. Ed expresses his passion for coding and experimenting with large language models (LLMs), as well as his interests in DJing and electronic music production.\n",
       "\n",
       "## Recent Posts\n",
       "1. **August 6, 2024** - **Outsmart LLM Arena**: Discusses a platform where LLMs compete in diplomacy and strategy.\n",
       "2. **June 26, 2024** - **Choosing the Right LLM**: Provides a toolkit and resources for selecting appropriate LLMs.\n",
       "3. **February 7, 2024** - **Fine-tuning an LLM on Your Texts**: Offers insights on personalizing LLMs using individual text samples.\n",
       "4. **January 31, 2024** - **Fine-tuning an LLM on Your Texts: Part 4 – QLoRA**: Continuation of the fine-tuning discussion focusing on a specific method. \n",
       "\n",
       "Ed invites engagement and connection through various platforms."
      ],
      "text/plain": [
       "<IPython.core.display.Markdown object>"
      ]
     },
     "metadata": {},
     "output_type": "display_data"
    }
   ],
   "source": [
    "display_summary(\"https://edwarddonner.com\")"
   ]
  },
  {
   "cell_type": "code",
   "execution_count": 46,
   "id": "45d83403-a24c-44b5-84ac-961449b4008f",
   "metadata": {},
   "outputs": [
    {
     "data": {
      "text/markdown": [
       "# Summary of CNN Website\n",
       "\n",
       "The CNN website serves as a comprehensive news platform that provides a variety of content including breaking news articles, in-depth analysis, and videos across multiple categories such as world news, politics, business, health, entertainment, science, and more.\n",
       "\n",
       "### Current Highlights:\n",
       "- **International Conflicts**: Ongoing updates on the Israel-Hamas war and the Ukraine-Russia conflict, including Israel's military actions in response to Iranian missile attacks.\n",
       "- **Politics**: Coverage of the 2024 U.S. elections, recent vice presidential debate highlights, and discussions around election certification challenges.\n",
       "- **Health**: Emphasis on the importance of flu and COVID-19 vaccinations in the wake of seasonal outbreaks.\n",
       "- **Tragedies and Accidents**: Reports on a school bus fire in Thailand that resulted in multiple fatalities and severe impacts from recent weather events in the U.S.\n",
       "- **Cultural Events**: Insights into significant events including the opening of the world’s first Nintendo Museum and highlights from Paris Fashion Week.\n",
       "\n",
       "### Additional Features:\n",
       "- **Video Content**: The site includes video segments featuring news updates, expert opinions, and live television options.\n",
       "- **Social Issues**: Articles covering societal impacts such as press freedom, AI regulation, and community health initiatives.\n",
       "\n",
       "In summary, CNN remains a key source for immediate news and diverse storytelling, with a strong focus on global events and pressing issues affecting society."
      ],
      "text/plain": [
       "<IPython.core.display.Markdown object>"
      ]
     },
     "metadata": {},
     "output_type": "display_data"
    }
   ],
   "source": [
    "display_summary(\"https://cnn.com\")"
   ]
  },
  {
   "cell_type": "code",
   "execution_count": 47,
   "id": "75e9fd40-b354-4341-991e-863ef2e59db7",
   "metadata": {},
   "outputs": [
    {
     "data": {
      "text/markdown": [
       "# Anthropic Overview\n",
       "\n",
       "Anthropic is an AI safety and research company based in San Francisco, focused on developing AI systems that prioritize safety and integrity. The organization emphasizes interdisciplinary collaboration among experts in machine learning, physics, policy, and product development.\n",
       "\n",
       "## Key Features\n",
       "\n",
       "- **Claude**: A series of advanced AI models, with the latest being **Claude 3.5 Sonnet**, advertised as the most intelligent version yet.\n",
       "- **API**: Allows developers to integrate and build applications using Claude.\n",
       "  \n",
       "## Recent Announcements\n",
       "\n",
       "- **Claude 3.5 Sonnet Launch** (Jun 21, 2024): Introduction of their latest AI model, enhancing intelligence and capabilities.\n",
       "- **Research on AI Safety**:\n",
       "  - **Constitutional AI: Harmlessness from AI Feedback** (Dec 15, 2022): Focused on ensuring AI models operate safely.\n",
       "  - **Core Views on AI Safety** (Mar 8, 2023): Discusses the principles and rationale behind AI safety practices.\n",
       "\n",
       "Anthropic is committed to researching and producing reliable AI systems while fostering a safe and beneficial environment for AI development."
      ],
      "text/plain": [
       "<IPython.core.display.Markdown object>"
      ]
     },
     "metadata": {},
     "output_type": "display_data"
    }
   ],
   "source": [
    "display_summary(\"https://anthropic.com\")"
   ]
  },
  {
   "cell_type": "markdown",
   "id": "36ed9f14-b349-40e9-a42c-b367e77f8bda",
   "metadata": {},
   "source": [
    "## An extra exercise for those who enjoy web scraping\n",
    "\n",
    "You may notice that if you try `display_summary(\"https://openai.com\")` - it doesn't work! That's because OpenAI has a fancy website that uses Javascript. There are many ways around this that some of you might be familiar with. For example, Selenium is a hugely popular framework that runs a browser behind the scenes, renders the page, and allows you to query it. If you have experience with Selenium, Playwright or similar, then feel free to improve the Website class to use them. Please push your code afterwards so I can share it with other students!"
   ]
  },
  {
   "cell_type": "code",
   "execution_count": 48,
   "id": "52ae98bb",
   "metadata": {},
   "outputs": [
    {
     "data": {
      "text/markdown": [
       "# Website Summary\n",
       "\n",
       "The website appears to be currently inaccessible due to requirements for JavaScript and Cookies to be enabled in the user's browser. Consequently, there are no visible contents or announcements available for summary. Users are prompted to adjust their browser settings to gain access to the website's features."
      ],
      "text/plain": [
       "<IPython.core.display.Markdown object>"
      ]
     },
     "metadata": {},
     "output_type": "display_data"
    }
   ],
   "source": [
    "display_summary(\"https://openai.com\")"
   ]
  },
  {
   "cell_type": "code",
   "execution_count": 62,
   "id": "5d57e958",
   "metadata": {},
   "outputs": [],
   "source": [
    "#Parse webpages which is designed using JavaScript heavely\n",
    "# download the chorme driver from here as per your version of chrome - https://developer.chrome.com/docs/chromedriver/downloads\n",
    "from selenium import webdriver\n",
    "from selenium.webdriver.chrome.service import Service\n",
    "from selenium.webdriver.common.by import By\n",
    "from selenium.webdriver.chrome.options import Options\n",
    "\n",
    "PATH_TO_CHROME_DRIVER = '..\\\\path\\\\to\\\\chromedriver.exe'\n",
    "\n",
    "class Website:\n",
    "    url: str\n",
    "    title: str\n",
    "    text: str\n",
    "    \n",
    "    def __init__(self, url):\n",
    "        self.url = url\n",
    "\n",
    "        options = Options()\n",
    "\n",
    "        options.add_argument(\"--no-sandbox\")\n",
    "        options.add_argument(\"--disable-dev-shm-usage\")\n",
    "\n",
    "        service = Service(PATH_TO_CHROME_DRIVER)\n",
    "        driver = webdriver.Chrome(service=service, options=options)\n",
    "        driver.get(url)\n",
    "\n",
    "        input(\"Please complete the verification in the browser and press Enter to continue...\")\n",
    "        page_source = driver.page_source\n",
    "        driver.quit()\n",
    "\n",
    "        soup = BeautifulSoup(page_source, 'html.parser')\n",
    "        self.title = soup.title.string if soup.title else \"No title found\"\n",
    "        for irrelevant in soup([\"script\", \"style\", \"img\", \"input\"]):\n",
    "            irrelevant.decompose()\n",
    "        self.text = soup.get_text(separator=\"\\n\", strip=True)"
   ]
  },
  {
   "cell_type": "code",
   "execution_count": 63,
   "id": "65192f6b",
   "metadata": {},
   "outputs": [
    {
     "data": {
      "text/markdown": [
       "# OpenAI Summary\n",
       "\n",
       "OpenAI is focused on creating safe Artificial General Intelligence (AGI) that benefits all of humanity. The website features various AI products and research initiatives, highlighting tools developed for both individual users and businesses.\n",
       "\n",
       "## Recent Announcements and News\n",
       "- **OpenAI DevDay:** A new event aimed at bringing developers together to explore new tools and share ideas.\n",
       "- **OpenAI o1:** Introduction of a series of AI models that emphasize thoughtfulness in responses.\n",
       "- **Partnership with Apple:** Announcement of a collaboration to integrate ChatGPT into Apple experiences.\n",
       "- **ChatGPT Enhancements:** New capabilities that allow ChatGPT to see, hear, and speak.\n",
       "- **Structured Outputs in the API:** Introduction of new compliance and administrative tools for ChatGPT Enterprise, alongside improvements for data analysis products.\n",
       "\n",
       "## Key Features\n",
       "- **Product Offerings:** Includes ChatGPT for individuals, teams, and enterprise solutions with improved compliance tools.\n",
       "- **SearchGPT Prototype:** A prototype featuring new AI search capabilities designed to enhance the search experience.\n",
       "- **Improvements in AI Capabilities:** Ongoing enhancements to large language models for better reasoning and understanding.\n",
       "\n",
       "Overall, OpenAI is committed to advancing AI technology while ensuring it aligns with safety and ethical standards."
      ],
      "text/plain": [
       "<IPython.core.display.Markdown object>"
      ]
     },
     "metadata": {},
     "output_type": "display_data"
    }
   ],
   "source": [
    "display_summary(\"https://openai.com\")"
   ]
  },
  {
   "cell_type": "code",
   "execution_count": 56,
   "id": "f2eb9599",
   "metadata": {},
   "outputs": [
    {
     "data": {
      "text/markdown": [
       "# Summary of Edward Donner's Website\n",
       "\n",
       "Edward Donner's website serves as a platform for his interests in coding, experimenting with language models (LLMs), and creative pursuits like DJing and music production. He is the co-founder and CTO of Nebula.io, a company focused on utilizing AI to help individuals discover their potential in the talent management sector. His previous venture, untapt, was acquired in 2021. \n",
       "\n",
       "## Key Features:\n",
       "- **Outsmart:** A project that involves a competitive arena for LLMs, emphasizing diplomacy and strategy.\n",
       "- **Posts:** The website includes a blog with several recent posts about:\n",
       "  - The Outsmart LLM Arena (August 6, 2024)\n",
       "  - Resources for choosing the right LLM (June 26, 2024)\n",
       "  - Fine-tuning LLMs on personal texts, including a simulation and techniques like QLoRA (February 7, 2024; January 31, 2024).\n",
       "\n",
       "Donner encourages visitors to connect with him and engage in discussions related to AI and programming."
      ],
      "text/plain": [
       "<IPython.core.display.Markdown object>"
      ]
     },
     "metadata": {},
     "output_type": "display_data"
    }
   ],
   "source": [
    "display_summary(\"https://edwarddonner.com\")"
   ]
  },
  {
   "cell_type": "code",
   "execution_count": 57,
   "id": "e7ba56c8",
   "metadata": {},
   "outputs": [
    {
     "data": {
      "text/markdown": [
       "# Summary of CNN Website\n",
       "\n",
       "The CNN website features a wide array of **breaking news, articles, and videos** from various categories, including **US and world news, politics, business, health, entertainment, sports, and science**. \n",
       "\n",
       "## Recent Major News Highlights:\n",
       "- **Escalation in Israel-Lebanon Conflict**: Israel vows retaliation against Iran following missile attacks, leading to significant military activity and troop casualties in Lebanon.\n",
       "- **Vice Presidential Debate Insights**: Analysis of a recent debate where JD Vance and Tim Walz presented their views, revealing no clear winner according to a CNN poll.\n",
       "- **Global News Updates**: Coverage includes Thai school bus fire resulting in 23 fatalities, and other significant international events.\n",
       "- **Health Advisories**: Recommendations have been made for flu and COVID-19 vaccinations as the season approaches.\n",
       "\n",
       "## Other Notable Stories:\n",
       "- **Upcoming Cultural Events**: Mention of fashion highlights from **Paris Fashion Week** and the resurgence of actors like **Daniel Day-Lewis** in new projects.\n",
       "- **Weather and Climate Focus**: Reports on severe weather conditions affecting the US, particularly in the southeast due to recent storms.\n",
       "\n",
       "Overall, the site encapsulates a mix of urgent news alerts and in-depth analyses, catering to a diverse audience seeking current affairs updates."
      ],
      "text/plain": [
       "<IPython.core.display.Markdown object>"
      ]
     },
     "metadata": {},
     "output_type": "display_data"
    }
   ],
   "source": [
    "display_summary(\"https://cnn.com\")"
   ]
  }
 ],
 "metadata": {
  "kernelspec": {
   "display_name": "Python 3 (ipykernel)",
   "language": "python",
   "name": "python3"
  },
  "language_info": {
   "codemirror_mode": {
    "name": "ipython",
    "version": 3
   },
   "file_extension": ".py",
   "mimetype": "text/x-python",
   "name": "python",
   "nbconvert_exporter": "python",
   "pygments_lexer": "ipython3",
   "version": "3.12.4"
  }
 },
 "nbformat": 4,
 "nbformat_minor": 5
}
